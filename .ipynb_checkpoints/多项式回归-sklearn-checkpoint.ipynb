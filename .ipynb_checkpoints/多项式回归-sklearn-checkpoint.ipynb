{
 "cells": [
  {
   "cell_type": "code",
   "execution_count": 1,
   "metadata": {},
   "outputs": [],
   "source": [
    "import numpy as np\n",
    "import matplotlib.pyplot as plt"
   ]
  },
  {
   "cell_type": "code",
   "execution_count": 2,
   "metadata": {},
   "outputs": [],
   "source": [
    "x =  np.random.uniform(-3,3,size=100)\n",
    "X = x.reshape(-1,1)\n",
    "y = 0.5 * x**2 + x + 2 + np.random.normal(0,1,100)"
   ]
  },
  {
   "cell_type": "code",
   "execution_count": 3,
   "metadata": {},
   "outputs": [],
   "source": [
    "# PolynomialFeatures是sklearn中用于生成多项式的类\n",
    "from sklearn.preprocessing import PolynomialFeatures"
   ]
  },
  {
   "cell_type": "code",
   "execution_count": 4,
   "metadata": {},
   "outputs": [],
   "source": [
    "poly =  PolynomialFeatures(degree=2)"
   ]
  },
  {
   "cell_type": "code",
   "execution_count": 24,
   "metadata": {},
   "outputs": [],
   "source": [
    "poly.fit(X)\n",
    "# 将X转换成多项式的特征\n",
    "out = poly.transform(X)"
   ]
  },
  {
   "cell_type": "code",
   "execution_count": 25,
   "metadata": {},
   "outputs": [
    {
     "data": {
      "text/plain": [
       "array([[ 1.        ,  0.65736675,  0.43213105],\n",
       "       [ 1.        ,  2.57552531,  6.63333063],\n",
       "       [ 1.        , -2.35864178,  5.56319106],\n",
       "       [ 1.        ,  0.27335202,  0.07472133],\n",
       "       [ 1.        , -1.37257952,  1.88397454]])"
      ]
     },
     "execution_count": 25,
     "metadata": {},
     "output_type": "execute_result"
    }
   ],
   "source": [
    "# 对于一维向量，deggre==2的时候结果是三列，第一列是x的零次方，第二列是x的1次方，第三列的x的2次方\n",
    "out[:5,:]"
   ]
  },
  {
   "cell_type": "code",
   "execution_count": 26,
   "metadata": {},
   "outputs": [],
   "source": [
    "# 对于一维向量，当degree==3的时候，计算结果是四列\n",
    "poly3 = PolynomialFeatures(degree=3)\n",
    "poly3.fit(X)\n",
    "out3 = poly3.transform(X)"
   ]
  },
  {
   "cell_type": "code",
   "execution_count": 27,
   "metadata": {},
   "outputs": [
    {
     "data": {
      "text/plain": [
       "array([[  1.        ,   0.65736675,   0.43213105,   0.28406858],\n",
       "       [  1.        ,   2.57552531,   6.63333063,  17.08431093],\n",
       "       [  1.        ,  -2.35864178,   5.56319106, -13.12157488],\n",
       "       [  1.        ,   0.27335202,   0.07472133,   0.02042523],\n",
       "       [  1.        ,  -1.37257952,   1.88397454,  -2.58590486]])"
      ]
     },
     "execution_count": 27,
     "metadata": {},
     "output_type": "execute_result"
    }
   ],
   "source": [
    "out3[:5,:]"
   ]
  },
  {
   "cell_type": "code",
   "execution_count": 28,
   "metadata": {},
   "outputs": [],
   "source": [
    "X2 = x.reshape(-1,2)"
   ]
  },
  {
   "cell_type": "code",
   "execution_count": 30,
   "metadata": {},
   "outputs": [],
   "source": [
    "poly_v2_d2 =  PolynomialFeatures(degree=2)"
   ]
  },
  {
   "cell_type": "code",
   "execution_count": 37,
   "metadata": {},
   "outputs": [],
   "source": [
    "poly_v2_d2.fit(X2)\n",
    "out_v2_d2 = poly_v2_d2.transform(X2)"
   ]
  },
  {
   "cell_type": "code",
   "execution_count": 38,
   "metadata": {},
   "outputs": [
    {
     "data": {
      "text/plain": [
       "array([[ 1.        ,  0.65736675,  2.57552531,  0.43213105,  1.69306471,\n",
       "         6.63333063],\n",
       "       [ 1.        , -2.35864178,  0.27335202,  5.56319106, -0.6447395 ,\n",
       "         0.07472133]])"
      ]
     },
     "execution_count": 38,
     "metadata": {},
     "output_type": "execute_result"
    }
   ],
   "source": [
    "# 对于2个特征的数据，degree==2的时候生成的多项式矩阵为六列，\n",
    "# 分别表示0， X1， X2， X1**2， X1*X2， X2**2\n",
    "# 即，输入的矩阵的每一个纬度X1, X2，转化为各个次幂的多项式。指数级增长\n",
    "out_v2_d2[:2,:]"
   ]
  },
  {
   "cell_type": "code",
   "execution_count": null,
   "metadata": {},
   "outputs": [],
   "source": []
  }
 ],
 "metadata": {
  "kernelspec": {
   "display_name": "Python 3",
   "language": "python",
   "name": "python3"
  },
  "language_info": {
   "codemirror_mode": {
    "name": "ipython",
    "version": 3
   },
   "file_extension": ".py",
   "mimetype": "text/x-python",
   "name": "python",
   "nbconvert_exporter": "python",
   "pygments_lexer": "ipython3",
   "version": "3.7.3"
  }
 },
 "nbformat": 4,
 "nbformat_minor": 2
}
